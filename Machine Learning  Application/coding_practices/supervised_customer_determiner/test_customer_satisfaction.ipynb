{
 "cells": [
  {
   "cell_type": "code",
   "execution_count": 57,
   "id": "3d56ec3c-4780-4d17-bf71-ae5fcfbe5526",
   "metadata": {},
   "outputs": [
    {
     "name": "stdout",
     "output_type": "stream",
     "text": [
      "Accuracy:  1.0\n",
      "The person is predicted to make a purchase.\n"
     ]
    }
   ],
   "source": [
    "from sklearn.model_selection import train_test_split\n",
    "from sklearn.linear_model import LogisticRegression\n",
    "from sklearn.metrics import accuracy_score\n",
    "\n",
    "#prepare dataset\n",
    "data = [\n",
    "    [ 50000, 0],\n",
    "    [ 65000, 1],\n",
    "    [ 80000, 1],\n",
    "    [ 45000, 0],\n",
    "    [ 60000, 1],\n",
    "    [42, 78000, 1],\n",
    "    [ 52000, 0],\n",
    "        ]\n",
    "\n",
    "#separate data\n",
    "X = [row[:1] for row in data]\n",
    "y = [row[1] for row in data]\n",
    "\n",
    "#testing our sets.\n",
    "X_train, X_test, y_train, y_test = train_test_split(X,y, test_size=0.2, random_state= 49000)\n",
    "\n",
    "#train our model.\n",
    "model = LogisticRegression()\n",
    "model.fit(X_train,y_train)\n",
    "\n",
    "#predict on test set\n",
    "pred = model.predict(X_test)\n",
    "pred\n",
    "\n",
    "#Evaluate model\n",
    "accuracy = accuracy_score(y_test,pred)\n",
    "print(\"Accuracy: \", accuracy)\n",
    "\n",
    "#print prediction result.\n",
    "\n",
    "if pred[0] == 1:\n",
    "    print(\"The person is predicted to make a purchase.\")\n",
    "else:\n",
    "        print(\"The person is predicted to NOT make a purchase.\")"
   ]
  },
  {
   "cell_type": "code",
   "execution_count": null,
   "id": "de8750ed-9e84-4af0-8f05-2ff0a393704a",
   "metadata": {},
   "outputs": [],
   "source": []
  },
  {
   "cell_type": "code",
   "execution_count": null,
   "id": "f33110f1-17a7-4b78-b074-258139c9c7d1",
   "metadata": {},
   "outputs": [],
   "source": []
  }
 ],
 "metadata": {
  "kernelspec": {
   "display_name": "Python 3 (ipykernel)",
   "language": "python",
   "name": "python3"
  },
  "language_info": {
   "codemirror_mode": {
    "name": "ipython",
    "version": 3
   },
   "file_extension": ".py",
   "mimetype": "text/x-python",
   "name": "python",
   "nbconvert_exporter": "python",
   "pygments_lexer": "ipython3",
   "version": "3.12.7"
  }
 },
 "nbformat": 4,
 "nbformat_minor": 5
}
