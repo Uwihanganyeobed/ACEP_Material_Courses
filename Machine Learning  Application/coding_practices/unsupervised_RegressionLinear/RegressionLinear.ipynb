{
 "cells": [
  {
   "cell_type": "code",
   "execution_count": null,
   "id": "d0a14500-fc23-46b7-960e-b905062e69dc",
   "metadata": {},
   "outputs": [
    {
     "name": "stdout",
     "output_type": "stream",
     "text": [
      "Current model accuracy: 0.6666666666666666\n"
     ]
    }
   ],
   "source": [
    "# Import necessary libraries\n",
    "from sklearn.model_selection import train_test_split\n",
    "from sklearn.linear_model import LogisticRegression\n",
    "from sklearn.metrics import accuracy_score\n",
    "\n",
    "# Prepare data for students (scores and pass/fail)\n",
    "X = [[1], [20], [25], [29], [30], [45], [50], [55], [59], [66], [77], [88], [91], [100]]  # Scores\n",
    "y = [0, 0, 0, 0, 0, 0, 0, 0, 1, 1, 1, 1, 1, 1]  # Pass (1) or Fail (0)\n",
    "\n",
    "# Split with random_state=0\n",
    "X_train, X_test, y_train, y_test = train_test_split(X, y, test_size=0.2, random_state=0)\n",
    "\n",
    "# Create and fit the model\n",
    "model = LogisticRegression()\n",
    "model.fit(X_train, y_train)\n",
    "\n",
    "# Function to test new scores\n",
    "def test_student_score():\n",
    "        score = float(input(\"Enter student score (0-100): \"))\n",
    "        if 0 <= score <= 100:\n",
    "            prediction = model.predict([[score]])\n",
    "            result = \"PASS\" if prediction[0] == 1 else \"FAIL\"\n",
    "            print(f\"\\nResult: {result}\")\n",
    "        else:\n",
    "            print(\"Please enter a score between 0 and 100\")\n",
    "\n",
    "# Test the model\n",
    "print(\"Current model accuracy:\", accuracy_score(y_test, predictions))\n",
    "test_student_score()"
   ]
  },
  {
   "cell_type": "code",
   "execution_count": null,
   "id": "6c4166b8-6fb7-4c56-a082-8e41e71b631e",
   "metadata": {},
   "outputs": [],
   "source": []
  }
 ],
 "metadata": {
  "kernelspec": {
   "display_name": "Python 3 (ipykernel)",
   "language": "python",
   "name": "python3"
  },
  "language_info": {
   "codemirror_mode": {
    "name": "ipython",
    "version": 3
   },
   "file_extension": ".py",
   "mimetype": "text/x-python",
   "name": "python",
   "nbconvert_exporter": "python",
   "pygments_lexer": "ipython3",
   "version": "3.12.7"
  }
 },
 "nbformat": 4,
 "nbformat_minor": 5
}
