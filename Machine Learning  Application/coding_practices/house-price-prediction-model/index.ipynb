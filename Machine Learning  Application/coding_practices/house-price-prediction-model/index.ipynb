{
 "cells": [
  {
   "cell_type": "code",
   "execution_count": 1,
   "metadata": {},
   "outputs": [
    {
     "ename": "ModuleNotFoundError",
     "evalue": "No module named 'gym'",
     "output_type": "error",
     "traceback": [
      "\u001b[1;31m---------------------------------------------------------------------------\u001b[0m",
      "\u001b[1;31mModuleNotFoundError\u001b[0m                       Traceback (most recent call last)",
      "Cell \u001b[1;32mIn[1], line 2\u001b[0m\n\u001b[0;32m      1\u001b[0m \u001b[38;5;28;01mimport\u001b[39;00m \u001b[38;5;21;01mnumpy\u001b[39;00m \u001b[38;5;28;01mas\u001b[39;00m \u001b[38;5;21;01mnp\u001b[39;00m\n\u001b[1;32m----> 2\u001b[0m \u001b[38;5;28;01mimport\u001b[39;00m \u001b[38;5;21;01mgym\u001b[39;00m\n\u001b[0;32m      4\u001b[0m \u001b[38;5;66;03m# 1️⃣ Create the environment\u001b[39;00m\n\u001b[0;32m      5\u001b[0m env \u001b[38;5;241m=\u001b[39m gym\u001b[38;5;241m.\u001b[39mmake(\u001b[38;5;124m\"\u001b[39m\u001b[38;5;124mFrozenLake-v1\u001b[39m\u001b[38;5;124m\"\u001b[39m, is_slippery\u001b[38;5;241m=\u001b[39m\u001b[38;5;28;01mFalse\u001b[39;00m)  \u001b[38;5;66;03m# Set `is_slippery=False` for simpler learning\u001b[39;00m\n",
      "\u001b[1;31mModuleNotFoundError\u001b[0m: No module named 'gym'"
     ]
    }
   ],
   "source": [
    "import numpy as np\n",
    "import gym\n",
    "\n",
    "# 1️⃣ Create the environment\n",
    "env = gym.make(\"FrozenLake-v1\", is_slippery=False)  # Set `is_slippery=False` for simpler learning\n",
    "\n",
    "# 2️⃣ Initialize Q-Table\n",
    "state_size = env.observation_space.n  # 16 states in a 4x4 grid\n",
    "action_size = env.action_space.n  # 4 possible actions (Left, Down, Right, Up)\n",
    "Q_table = np.zeros((state_size, action_size))\n",
    "\n",
    "# 3️⃣ Training parameters\n",
    "learning_rate = 0.8\n",
    "discount_factor = 0.95\n",
    "episodes = 1000  # Runs faster with 1000 episodes\n",
    "exploration_prob = 1.0\n",
    "exploration_decay = 0.995\n",
    "min_exploration = 0.01\n",
    "\n",
    "# 4️⃣ Training loop\n",
    "for episode in range(episodes):\n",
    "    state, _ = env.reset()\n",
    "    done = False\n",
    "\n",
    "    while not done:\n",
    "        # Choose action (Explore or Exploit)\n",
    "        if np.random.rand() < exploration_prob:\n",
    "            action = env.action_space.sample()  # Random action\n",
    "        else:\n",
    "            action = np.argmax(Q_table[state, :])  # Best learned action\n",
    "\n",
    "        # Perform action\n",
    "        new_state, reward, done, _, _ = env.step(action)\n",
    "\n",
    "        # Update Q-Table\n",
    "        Q_table[state, action] = (1 - learning_rate) * Q_table[state, action] + \\\n",
    "                                 learning_rate * (reward + discount_factor * np.max(Q_table[new_state, :]))\n",
    "\n",
    "        state = new_state  # Move to next state\n",
    "\n",
    "    # Reduce exploration probability\n",
    "    exploration_prob = max(min_exploration, exploration_prob * exploration_decay)\n",
    "\n",
    "print(\"✅ AI Training Complete!\")\n",
    "\n",
    "# 5️⃣ AI Testing: Play 5 Games\n",
    "for game in range(5):\n",
    "    state, _ = env.reset()\n",
    "    done = False\n",
    "    print(f\"\\n🎮 **Game {game+1}**\")\n",
    "\n",
    "    while not done:\n",
    "        action = np.argmax(Q_table[state, :])  # Choose best action\n",
    "        state, _, done, _, _ = env.step(action)\n",
    "        env.render()  # Show movement on the grid\n",
    "\n",
    "print(\"🚀 AI Successfully Crosses the Frozen Lake!\")\n",
    "env.close()\n"
   ]
  },
  {
   "cell_type": "code",
   "execution_count": null,
   "metadata": {},
   "outputs": [],
   "source": []
  }
 ],
 "metadata": {
  "kernelspec": {
   "display_name": "base",
   "language": "python",
   "name": "python3"
  },
  "language_info": {
   "codemirror_mode": {
    "name": "ipython",
    "version": 3
   },
   "file_extension": ".py",
   "mimetype": "text/x-python",
   "name": "python",
   "nbconvert_exporter": "python",
   "pygments_lexer": "ipython3",
   "version": "3.12.7"
  }
 },
 "nbformat": 4,
 "nbformat_minor": 2
}
